{
 "cells": [
  {
   "cell_type": "code",
   "execution_count": 2,
   "metadata": {},
   "outputs": [
    {
     "name": "stdout",
     "output_type": "stream",
     "text": [
      "Total code churn for each file: {'js/main.js': 1, 'js/love.render.js': 15, 'js/utils.webgl.js': 31, 'js/love.physics.js': 710, 'README': 8, 'index.html': 5, 'js/love.graphics.js': 27, 'js/love.audio.js': 0, 'imgfont.png': 0, '.gitignore': 2, 'js/love.font.js': 0, 'clouds/index.html': 1, 'index.php': 1, 'iyfct/index.html': 1, 'js/Box2dWeb-2.1.a.3.js': 10866, 'js/Box2dWeb-2.1.a.3.min.js': 445, 'no/index.html': 1, 'font-12-10-8.png': 0, 'font-12-10-8.txt': 4, 'js/lua-parser.js': 40, 'js/lua-parser-utils.js': -14}\n",
      "Maximum code churn for each file: {'js/main.js': 2, 'js/love.render.js': 11, 'js/utils.webgl.js': 28, 'js/love.physics.js': 204, 'README': 3, 'index.html': 2, 'js/love.graphics.js': 26, 'js/love.audio.js': 0, 'imgfont.png': 0, '.gitignore': 1, 'js/love.font.js': 0, 'clouds/index.html': 1, 'index.php': 1, 'iyfct/index.html': 1, 'js/Box2dWeb-2.1.a.3.js': 10866, 'js/Box2dWeb-2.1.a.3.min.js': 445, 'no/index.html': 1, 'font-12-10-8.png': 0, 'font-12-10-8.txt': 4, 'js/lua-parser.js': 30, 'js/lua-parser-utils.js': -14}\n",
      "Average code churn for each file: {'js/main.js': 0, 'js/love.render.js': 5, 'js/utils.webgl.js': 8, 'js/love.physics.js': 47, 'README': 1, 'index.html': 1, 'js/love.graphics.js': 14, 'js/love.audio.js': 0, 'imgfont.png': 0, '.gitignore': 1, 'js/love.font.js': 0, 'clouds/index.html': 1, 'index.php': 1, 'iyfct/index.html': 1, 'js/Box2dWeb-2.1.a.3.js': 10866, 'js/Box2dWeb-2.1.a.3.min.js': 445, 'no/index.html': 1, 'font-12-10-8.png': 0, 'font-12-10-8.txt': 4, 'js/lua-parser.js': 20, 'js/lua-parser-utils.js': -14}\n",
      "Maximum number of files committed together: 7\n",
      "Average number of files committed together: 2\n",
      "Total lines added per file: {'js/main.js': 23, 'js/love.render.js': 17, 'js/utils.webgl.js': 39, 'js/love.physics.js': 1574, 'README': 11, 'index.html': 6, 'js/love.graphics.js': 31, 'js/love.audio.js': 5, 'imgfont.png': 0, '.gitignore': 2, 'js/love.font.js': 4, 'clouds/index.html': 1, 'index.php': 1, 'iyfct/index.html': 1, 'js/Box2dWeb-2.1.a.3.js': 10866, 'js/Box2dWeb-2.1.a.3.min.js': 445, 'no/index.html': 1, 'font-12-10-8.png': 0, 'font-12-10-8.txt': 4, 'js/lua-parser.js': 52, 'js/lua-parser-utils.js': 0}\n",
      "Maximum lines added per file: {'js/main.js': 19, 'js/love.render.js': 11, 'js/utils.webgl.js': 34, 'js/love.physics.js': 279, 'README': 4, 'index.html': 2, 'js/love.graphics.js': 30, 'js/love.audio.js': 5, 'imgfont.png': 0, '.gitignore': 1, 'js/love.font.js': 4, 'clouds/index.html': 1, 'index.php': 1, 'iyfct/index.html': 1, 'js/Box2dWeb-2.1.a.3.js': 10866, 'js/Box2dWeb-2.1.a.3.min.js': 445, 'no/index.html': 1, 'font-12-10-8.png': 0, 'font-12-10-8.txt': 4, 'js/lua-parser.js': 38, 'js/lua-parser-utils.js': 0}\n",
      "Average lines added per file: {'js/main.js': 6, 'js/love.render.js': 6, 'js/utils.webgl.js': 10, 'js/love.physics.js': 105, 'README': 2, 'index.html': 1, 'js/love.graphics.js': 16, 'js/love.audio.js': 5, 'imgfont.png': 0, '.gitignore': 1, 'js/love.font.js': 4, 'clouds/index.html': 1, 'index.php': 1, 'iyfct/index.html': 1, 'js/Box2dWeb-2.1.a.3.js': 10866, 'js/Box2dWeb-2.1.a.3.min.js': 445, 'no/index.html': 1, 'font-12-10-8.png': 0, 'font-12-10-8.txt': 4, 'js/lua-parser.js': 26, 'js/lua-parser-utils.js': 0}\n",
      "Total lines removed per file: {'js/main.js': 22, 'js/love.render.js': 2, 'js/utils.webgl.js': 8, 'js/love.physics.js': 864, 'README': 3, 'index.html': 1, 'js/love.graphics.js': 4, 'js/love.audio.js': 5, 'imgfont.png': 0, '.gitignore': 0, 'js/love.font.js': 4, 'clouds/index.html': 0, 'index.php': 0, 'iyfct/index.html': 0, 'js/Box2dWeb-2.1.a.3.js': 0, 'js/Box2dWeb-2.1.a.3.min.js': 0, 'no/index.html': 0, 'font-12-10-8.png': 0, 'font-12-10-8.txt': 0, 'js/lua-parser.js': 12, 'js/lua-parser-utils.js': 14}\n",
      "Maximum lines removed per file: {'js/main.js': 20, 'js/love.render.js': 1, 'js/utils.webgl.js': 6, 'js/love.physics.js': 259, 'README': 1, 'index.html': 1, 'js/love.graphics.js': 4, 'js/love.audio.js': 5, 'imgfont.png': 0, '.gitignore': 0, 'js/love.font.js': 4, 'clouds/index.html': 0, 'index.php': 0, 'iyfct/index.html': 0, 'js/Box2dWeb-2.1.a.3.js': 0, 'js/Box2dWeb-2.1.a.3.min.js': 0, 'no/index.html': 0, 'font-12-10-8.png': 0, 'font-12-10-8.txt': 0, 'js/lua-parser.js': 8, 'js/lua-parser-utils.js': 14}\n",
      "Average lines removed per file: {'js/main.js': 6, 'js/love.render.js': 1, 'js/utils.webgl.js': 2, 'js/love.physics.js': 58, 'README': 0, 'index.html': 0, 'js/love.graphics.js': 2, 'js/love.audio.js': 5, 'imgfont.png': 0, '.gitignore': 0, 'js/love.font.js': 4, 'clouds/index.html': 0, 'index.php': 0, 'iyfct/index.html': 0, 'js/Box2dWeb-2.1.a.3.js': 0, 'js/Box2dWeb-2.1.a.3.min.js': 0, 'no/index.html': 0, 'font-12-10-8.png': 0, 'font-12-10-8.txt': 0, 'js/lua-parser.js': 6, 'js/lua-parser-utils.js': 14}\n"
     ]
    }
   ],
   "source": [
    "from pydriller import Repository\n",
    "import pandas as pd\n",
    "repo= Repository(\"https://github.com/ghoulsblade/love-webplayer\").traverse_commits()\n",
    "\n",
    "\n",
    "from pydriller.metrics.process.code_churn import CodeChurn\n",
    "metric = CodeChurn(path_to_repo='https://github.com/ghoulsblade/love-webplayer',\n",
    "                   from_commit='3654534f7883e3a677b11b26d4b47dec5d929fdf',\n",
    "                   to_commit='06920e0069bc0782fbee8a8cf8cc4be828fdf123')\n",
    "files_count = metric.count()\n",
    "files_max = metric.max()\n",
    "files_avg = metric.avg()\n",
    "\n",
    "print('Total code churn for each file: {}'.format(files_count))\n",
    "print('Maximum code churn for each file: {}'.format(files_max))\n",
    "print('Average code churn for each file: {}'.format(files_avg))\n",
    "\n",
    "\n",
    "\n",
    "\n",
    "from pydriller.metrics.process.change_set import ChangeSet\n",
    "metric = ChangeSet(path_to_repo='https://github.com/ghoulsblade/love-webplayer',\n",
    "                   from_commit='3654534f7883e3a677b11b26d4b47dec5d929fdf',\n",
    "                   to_commit='06920e0069bc0782fbee8a8cf8cc4be828fdf123')\n",
    "\n",
    "maximum = metric.max()\n",
    "average = metric.avg()\n",
    "print('Maximum number of files committed together: {}'.format(maximum))\n",
    "print('Average number of files committed together: {}'.format(average))\n",
    "\n",
    "from pydriller.metrics.process.lines_count import LinesCount\n",
    "metric = LinesCount(path_to_repo='https://github.com/ghoulsblade/love-webplayer',\n",
    "                   from_commit='3654534f7883e3a677b11b26d4b47dec5d929fdf',\n",
    "                   to_commit='06920e0069bc0782fbee8a8cf8cc4be828fdf123')\n",
    "\n",
    "added_count = metric.count_added()\n",
    "added_max = metric.max_added()\n",
    "added_avg = metric.avg_added()\n",
    "print('Total lines added per file: {}'.format(added_count))\n",
    "print('Maximum lines added per file: {}'.format(added_max))\n",
    "print('Average lines added per file: {}'.format(added_avg))\n",
    "\n",
    "\n",
    "from pydriller.metrics.process.lines_count import LinesCount\n",
    "metric = LinesCount(path_to_repo='https://github.com/ghoulsblade/love-webplayer',\n",
    "                   from_commit='3654534f7883e3a677b11b26d4b47dec5d929fdf',\n",
    "                   to_commit='06920e0069bc0782fbee8a8cf8cc4be828fdf123')\n",
    "\n",
    "removed_count = metric.count_removed()\n",
    "removed_max = metric.max_removed()\n",
    "removed_avg = metric.avg_removed()\n",
    "print('Total lines removed per file: {}'.format(removed_count))\n",
    "print('Maximum lines removed per file: {}'.format(removed_max))\n",
    "print('Average lines removed per file: {}'.format(removed_avg))\n",
    "\n",
    "df = pd.DataFrame(columns=['filename','Ttl code churn','Max code churn ','Avg code churn','Total lines added per file'\\\n",
    "                        ,'Maximum lines added per file','Average lines added per file','Total lines removed per file',\n",
    "                        'Maximum lines removed per file',\n",
    "                        'Average lines removed per file'])\n",
    "for idx,k in enumerate(files_count.keys()):\n",
    "    df.loc[len(df)]=[k,files_count[k],files_max[k],files_avg[k],added_count[k],added_max[k],added_avg[k],removed_count[k],removed_max[k],removed_avg[k]]\n",
    "df.to_excel('./results.xlsx')"
   ]
  },
  {
   "cell_type": "code",
   "execution_count": null,
   "metadata": {},
   "outputs": [],
   "source": []
  }
 ],
 "metadata": {
  "interpreter": {
   "hash": "98b0f515eec985b6456ac07fe6ff0a13341d4fcbd03a91d6c152042c1b9a7346"
  },
  "kernelspec": {
   "display_name": "Python 3.7.10 64-bit ('dl': conda)",
   "name": "python3"
  },
  "language_info": {
   "codemirror_mode": {
    "name": "ipython",
    "version": 3
   },
   "file_extension": ".py",
   "mimetype": "text/x-python",
   "name": "python",
   "nbconvert_exporter": "python",
   "pygments_lexer": "ipython3",
   "version": "3.7.10"
  },
  "orig_nbformat": 4
 },
 "nbformat": 4,
 "nbformat_minor": 2
}
